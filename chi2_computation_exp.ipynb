{
 "cells": [
  {
   "cell_type": "markdown",
   "id": "5f3b14b0",
   "metadata": {},
   "source": [
    "# $\\chi^2$ computations for the exponential profile fit"
   ]
  },
  {
   "cell_type": "code",
   "execution_count": 36,
   "id": "a9730f20",
   "metadata": {},
   "outputs": [],
   "source": [
    "import numpy as np\n",
    "from modules import potential_tools as pt"
   ]
  },
  {
   "cell_type": "markdown",
   "id": "d4189767",
   "metadata": {},
   "source": [
    "## Obtaining the model densities"
   ]
  },
  {
   "cell_type": "code",
   "execution_count": 37,
   "id": "6f6e7e6b",
   "metadata": {},
   "outputs": [],
   "source": [
    "#Obtaining the R-z grid\n",
    "R = np.load('./data/x_vals.npy')\n",
    "z = np.load('./data/z_vals.npy')\n",
    "Rgrid, zgrid = np.meshgrid(R, z)"
   ]
  },
  {
   "cell_type": "code",
   "execution_count": 38,
   "id": "b7c92fa7",
   "metadata": {},
   "outputs": [],
   "source": [
    "def rho_model(params):\n",
    "    H = params[0]\n",
    "    z0 = params[1]\n",
    "    logM = params[2]\n",
    "    \n",
    "    return pt.exp_rho(Rgrid, zgrid, H, z0, logM).T"
   ]
  },
  {
   "cell_type": "markdown",
   "id": "bc9a65a4",
   "metadata": {},
   "source": [
    "## Defining $\\chi^2$"
   ]
  },
  {
   "cell_type": "code",
   "execution_count": 39,
   "id": "beeed423",
   "metadata": {},
   "outputs": [],
   "source": [
    "#Obtaning the actual densities\n",
    "rho_actual = np.load('./data/2d_density.npy')\n",
    "rho_actual_err = np.load('./data/error_2d_density.npy')"
   ]
  },
  {
   "cell_type": "code",
   "execution_count": 40,
   "id": "938c671a",
   "metadata": {},
   "outputs": [],
   "source": [
    "def chi2(params):\n",
    "    return np.sum(np.divide(rho_actual - rho_model(params), rho_actual_err)**2)"
   ]
  },
  {
   "cell_type": "markdown",
   "id": "88858219",
   "metadata": {},
   "source": [
    "## Chains"
   ]
  },
  {
   "cell_type": "code",
   "execution_count": 41,
   "id": "9a94cfb3",
   "metadata": {},
   "outputs": [],
   "source": [
    "samples_exp = np.loadtxt('./chains/mcmc_exp_profile.txt')\n",
    "Nchains_exp = len(samples_exp)"
   ]
  },
  {
   "cell_type": "markdown",
   "id": "b1773edd",
   "metadata": {},
   "source": [
    "## Computing $\\chi^2$"
   ]
  },
  {
   "cell_type": "code",
   "execution_count": 42,
   "id": "d832e6e7",
   "metadata": {},
   "outputs": [],
   "source": [
    "chi2_exp = np.zeros(Nchains_exp)\n",
    "\n",
    "for i in range(Nchains_exp):\n",
    "    chi2_exp[i] += chi2(samples_exp[i, :])"
   ]
  },
  {
   "cell_type": "code",
   "execution_count": 43,
   "id": "086f782c",
   "metadata": {},
   "outputs": [],
   "source": [
    "chi2_red = np.min(chi2_exp)"
   ]
  },
  {
   "cell_type": "code",
   "execution_count": 44,
   "id": "47c36046",
   "metadata": {},
   "outputs": [
    {
     "data": {
      "text/plain": [
       "369.37710122259665"
      ]
     },
     "execution_count": 44,
     "metadata": {},
     "output_type": "execute_result"
    }
   ],
   "source": [
    "chi2_red"
   ]
  },
  {
   "cell_type": "markdown",
   "id": "86a8ff40",
   "metadata": {},
   "source": [
    "## Number of dof"
   ]
  },
  {
   "cell_type": "code",
   "execution_count": 45,
   "id": "33adfd54",
   "metadata": {},
   "outputs": [],
   "source": [
    "n_dof = len(R)*len(z) - 3"
   ]
  },
  {
   "cell_type": "code",
   "execution_count": 46,
   "id": "820a88ef",
   "metadata": {},
   "outputs": [
    {
     "data": {
      "text/plain": [
       "357"
      ]
     },
     "execution_count": 46,
     "metadata": {},
     "output_type": "execute_result"
    }
   ],
   "source": [
    "n_dof"
   ]
  },
  {
   "cell_type": "markdown",
   "id": "bbe28451",
   "metadata": {},
   "source": [
    "## $\\chi^2_{red, dof}$"
   ]
  },
  {
   "cell_type": "code",
   "execution_count": 47,
   "id": "50c83035",
   "metadata": {},
   "outputs": [
    {
     "data": {
      "text/plain": [
       "1.0346697513238001"
      ]
     },
     "execution_count": 47,
     "metadata": {},
     "output_type": "execute_result"
    }
   ],
   "source": [
    "chi2_red/n_dof"
   ]
  }
 ],
 "metadata": {
  "kernelspec": {
   "display_name": "Python 3 (ipykernel)",
   "language": "python",
   "name": "python3"
  },
  "language_info": {
   "codemirror_mode": {
    "name": "ipython",
    "version": 3
   },
   "file_extension": ".py",
   "mimetype": "text/x-python",
   "name": "python",
   "nbconvert_exporter": "python",
   "pygments_lexer": "ipython3",
   "version": "3.9.12"
  }
 },
 "nbformat": 4,
 "nbformat_minor": 5
}
