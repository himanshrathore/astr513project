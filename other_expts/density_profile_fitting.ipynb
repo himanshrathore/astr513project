{
 "cells": [
  {
   "cell_type": "markdown",
   "id": "8506d2b4",
   "metadata": {},
   "source": [
    "# Fitting a density model to the LMC isolated disk"
   ]
  },
  {
   "cell_type": "code",
   "execution_count": 1,
   "id": "a8021037",
   "metadata": {},
   "outputs": [],
   "source": [
    "import numpy as np\n",
    "import matplotlib.pyplot as plt\n",
    "from scipy.optimize import curve_fit as cf\n",
    "from modules import TimingTools as TT"
   ]
  },
  {
   "cell_type": "markdown",
   "id": "d0030aeb",
   "metadata": {},
   "source": [
    "## Reading data"
   ]
  },
  {
   "cell_type": "code",
   "execution_count": 2,
   "id": "e3e00a19",
   "metadata": {},
   "outputs": [],
   "source": [
    "r = np.load('./data/radial_distances.npy')\n",
    "rho_r = np.load('./data/radial_density.npy')\n",
    "e_rho_r = np.load('./data/radial_density_error.npy')\n",
    "\n",
    "z = np.load('./data/vertical_distances.npy')\n",
    "rho_z = np.load('./data/vertical_density.npy')\n",
    "e_rho_z = np.load('./data/vertical_density_error.npy')"
   ]
  },
  {
   "cell_type": "markdown",
   "id": "633c7345",
   "metadata": {},
   "source": [
    "## Density model"
   ]
  },
  {
   "cell_type": "markdown",
   "id": "172fd660",
   "metadata": {},
   "source": [
    "In MakeGalaxy, the density profile of the disk is treated with an exponentially declining parameterization along the radial direction, and a $sech^2$ parametrization along the vertical direction. The model looks like:\n",
    "\n",
    "\\begin{equation}\n",
    "log(\\rho(r, z)) = log(\\rho_0) - \\frac{r}{H \\: ln(10)} + 2 \\: log\\left(sech\\left(\\frac{z}{z_0}\\right)\\right),\n",
    "\\end{equation}\n",
    "where $H$ is the scale length along the radial direction and $z_0$ is the scale length along the vertical direction. $\\rho_0$ denotes the central density. $\\rho_0$ is measured in $M_\\odot$ kpc$^{-3}$, and all lengths are measured in kpc.\n",
    "\n",
    "Since, the model is separable in $r$ and $z$, we shall fit the radial and vertical direction independently. This is a good approximation, since the radial and vertical scale lengths can be specified independently while initializing the disk."
   ]
  },
  {
   "cell_type": "markdown",
   "id": "782c348c",
   "metadata": {},
   "source": [
    "## Fitting"
   ]
  },
  {
   "cell_type": "markdown",
   "id": "73a502a9",
   "metadata": {},
   "source": [
    "We use the scipy.optimize.curvefit package to perform the fitting. The algorithm minimizes the following statistic:\n",
    "\\begin{equation}\n",
    "\\chi^2 = \\sum_{i} \\left(\\frac{\\log(\\rho_{meas}) - log(\\rho_{pred})}{\\sigma_{log(\\rho_{meas})}}\\right)^2\n",
    "\\end{equation}"
   ]
  },
  {
   "cell_type": "markdown",
   "id": "ee6284fc",
   "metadata": {},
   "source": [
    "### Radial fitting"
   ]
  },
  {
   "cell_type": "markdown",
   "id": "605645cf",
   "metadata": {},
   "source": [
    "For fitting, we give the bounds, $log(\\rho_0) \\in [7, 10]$, $H \\in [0, 6]$. The initial guesses are $8.5$ and $3$ respectively."
   ]
  },
  {
   "cell_type": "code",
   "execution_count": 3,
   "id": "ed075e50",
   "metadata": {},
   "outputs": [],
   "source": [
    "logrho_r = np.log10(rho_r)\n",
    "e_logrho_r = e_rho_r/(rho_r*np.log(10))"
   ]
  },
  {
   "cell_type": "code",
   "execution_count": 4,
   "id": "d1c78784",
   "metadata": {},
   "outputs": [],
   "source": [
    "popt_rad, pcov_rad = cf(TT.log_rad_density, r, logrho_r, p0 = [8.5, 3], bounds = ([7, 0], [10, 6])\n",
    "                       , sigma = e_logrho_r)"
   ]
  },
  {
   "cell_type": "code",
   "execution_count": 5,
   "id": "ceb6a9af",
   "metadata": {},
   "outputs": [],
   "source": [
    "logrho0_fit, H_fit = np.round(popt_rad, 2)\n",
    "sigma_logrho0_fit = np.round(np.sqrt(pcov_rad[0,0]), 2)\n",
    "sigma_H_fit = np.round(np.sqrt(pcov_rad[1,1]), 2)"
   ]
  },
  {
   "cell_type": "code",
   "execution_count": 6,
   "id": "ddb4c44d",
   "metadata": {},
   "outputs": [
    {
     "name": "stdout",
     "output_type": "stream",
     "text": [
      "logrho0 = 8.21 +- 0.01 in log(Msun/kpc^3)\n",
      "H_fit = 1.75 +- 0.02 kpc\n"
     ]
    }
   ],
   "source": [
    "print('logrho0 = ' + str(logrho0_fit) + ' +- ' + str(sigma_logrho0_fit) + ' in log(Msun/kpc^3)')\n",
    "print('H_fit = ' + str(H_fit) + ' +- ' + str(sigma_H_fit) + ' kpc')"
   ]
  },
  {
   "cell_type": "code",
   "execution_count": 8,
   "id": "350c240d",
   "metadata": {},
   "outputs": [
    {
     "data": {
      "image/png": "[encoded data removed]",
      "text/plain": [
       "<Figure size 720x432 with 1 Axes>"
      ]
     },
     "metadata": {
      "needs_background": "light"
     },
     "output_type": "display_data"
    }
   ],
   "source": [
    "r_arr = np.linspace(0, 10, 100)\n",
    "logrho_r_pred = TT.log_rad_density(r_arr, logrho0_fit, H_fit)\n",
    "\n",
    "plt.figure(figsize = (10,6))\n",
    "plt.errorbar(r, logrho_r, yerr = e_logrho_r, ecolor = 'black', capsize = 5, \n",
    "             fmt = 'o', color = 'r', markeredgecolor = 'black', label = 'data')\n",
    "plt.plot(r_arr, logrho_r_pred, label = 'model')\n",
    "plt.xlabel('r (kpc)')\n",
    "plt.ylabel(r'$log(\\rho(r))$ ($M_\\odot$ kpc$^{-3}$)')\n",
    "plt.legend()\n",
    "plt.show()"
   ]
  },
  {
   "cell_type": "markdown",
   "id": "d5fa1a98",
   "metadata": {},
   "source": [
    "## Vertical fitting"
   ]
  },
  {
   "cell_type": "markdown",
   "id": "b1aef825",
   "metadata": {},
   "source": [
    "For fitting, we give the bounds, $log(\\rho_0) \\in [8.18, 8.24]$, $z_0 \\in [0, 1]$. The initial guesses are $8.21$ and $0.5$ respectively. For $log(\\rho_0)$, the bounds are in $\\pm 3\\sigma$ of the value obtained using the fitting of the radial density profile."
   ]
  },
  {
   "cell_type": "code",
   "execution_count": 9,
   "id": "3f3efdc1",
   "metadata": {},
   "outputs": [],
   "source": [
    "logrho_z = np.log10(rho_z)\n",
    "e_logrho_z = e_rho_z/(rho_z*np.log(10))"
   ]
  },
  {
   "cell_type": "code",
   "execution_count": 10,
   "id": "e51b0ff1",
   "metadata": {},
   "outputs": [],
   "source": [
    "popt_vert, pcov_vert = cf(TT.log_vert_density, z, logrho_z, p0 = [8.21, 0.5], bounds = ([8.18, 0], [8.24, 1])\n",
    "                         , sigma = e_logrho_z)"
   ]
  },
  {
   "cell_type": "code",
   "execution_count": 11,
   "id": "60338ba1",
   "metadata": {},
   "outputs": [],
   "source": [
    "logrho0_vert_fit, z0_fit = np.round(popt_vert, 3)\n",
    "sigma_z0_fit = np.round(np.sqrt(pcov_vert[1,1]), 3)"
   ]
  },
  {
   "cell_type": "code",
   "execution_count": 12,
   "id": "61d4f00e",
   "metadata": {},
   "outputs": [
    {
     "name": "stdout",
     "output_type": "stream",
     "text": [
      "z0_fit = 0.317 +- 0.004 kpc\n"
     ]
    }
   ],
   "source": [
    "print('z0_fit = ' + str(z0_fit) + ' +- ' + str(sigma_z0_fit) + ' kpc')"
   ]
  },
  {
   "cell_type": "code",
   "execution_count": 13,
   "id": "8f67f0bd",
   "metadata": {},
   "outputs": [
    {
     "data": {
      "image/png": "[encoded data removed]",
      "text/plain": [
       "<Figure size 720x432 with 1 Axes>"
      ]
     },
     "metadata": {
      "needs_background": "light"
     },
     "output_type": "display_data"
    }
   ],
   "source": [
    "z_arr = np.linspace(0, 1.5, 100)\n",
    "logrho_z_pred = TT.log_vert_density(z_arr, logrho0_vert_fit, z0_fit)\n",
    "\n",
    "plt.figure(figsize = (10,6))\n",
    "plt.errorbar(z, logrho_z, yerr = e_logrho_z, ecolor = 'black', capsize = 5, \n",
    "             fmt = 'o', color = 'r', markeredgecolor = 'black', label = 'data')\n",
    "plt.plot(z_arr, logrho_z_pred, label = 'model')\n",
    "plt.xlabel('z (kpc)')\n",
    "plt.ylabel(r'$log(\\rho(z))$ ($M_\\odot$ kpc$^{-3}$)')\n",
    "plt.legend()\n",
    "plt.show()"
   ]
  },
  {
   "cell_type": "markdown",
   "id": "723ac411",
   "metadata": {},
   "source": [
    "## Saving results"
   ]
  },
  {
   "cell_type": "code",
   "execution_count": 14,
   "id": "f514c6fa",
   "metadata": {},
   "outputs": [],
   "source": [
    "#density_profile_params = np.array([logrho0_fit, sigma_logrho0_fit, H_fit, sigma_H_fit, z0_fit, sigma_z0_fit])\n",
    "#np.save('./data/density_profile_params', density_profile_params)"
   ]
  }
 ],
 "metadata": {
  "kernelspec": {
   "display_name": "Python 3 (ipykernel)",
   "language": "python",
   "name": "python3"
  },
  "language_info": {
   "codemirror_mode": {
    "name": "ipython",
    "version": 3
   },
   "file_extension": ".py",
   "mimetype": "text/x-python",
   "name": "python",
   "nbconvert_exporter": "python",
   "pygments_lexer": "ipython3",
   "version": "3.9.12"
  }
 },
 "nbformat": 4,
 "nbformat_minor": 5
}
