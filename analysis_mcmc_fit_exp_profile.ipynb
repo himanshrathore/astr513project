{
 "cells": [
  {
   "cell_type": "markdown",
   "id": "90fd5260",
   "metadata": {},
   "source": [
    "# Analysis of the MCMC fit of exponential disk to LMC data"
   ]
  },
  {
   "cell_type": "code",
   "execution_count": 1,
   "id": "e62bd686",
   "metadata": {},
   "outputs": [],
   "source": [
    "import numpy as np\n",
    "import getdist\n",
    "from getdist import MCSamples, plots\n",
    "from getdist.chains import Chains\n",
    "import matplotlib as mpl\n",
    "import matplotlib.pyplot as plt \n",
    "from modules import potential_tools as pt\n",
    "import copy\n",
    "import matplotlib as mpl"
   ]
  },
  {
   "cell_type": "code",
   "execution_count": 2,
   "id": "6d88ff23",
   "metadata": {},
   "outputs": [],
   "source": [
    "mpl.rcParams['axes.labelsize'] = 'xx-large'\n",
    "mpl.rcParams['xtick.labelsize'] = 'xx-large'\n",
    "mpl.rcParams['ytick.labelsize'] = 'xx-large'"
   ]
  },
  {
   "cell_type": "markdown",
   "id": "7791d67d",
   "metadata": {},
   "source": [
    "## Chains"
   ]
  },
  {
   "cell_type": "code",
   "execution_count": 3,
   "id": "9a94cfb3",
   "metadata": {},
   "outputs": [],
   "source": [
    "samples = np.loadtxt('./chains/mcmc_exp_profile.txt')"
   ]
  },
  {
   "cell_type": "markdown",
   "id": "01f7c6e2",
   "metadata": {},
   "source": [
    "## Contours"
   ]
  },
  {
   "cell_type": "code",
   "execution_count": 4,
   "id": "d62cf8d4",
   "metadata": {},
   "outputs": [
    {
     "name": "stdout",
     "output_type": "stream",
     "text": [
      "Removed no burn in\n"
     ]
    }
   ],
   "source": [
    "getdist_samples = MCSamples(samples = samples, names = ['a', 'b', 'logM'])"
   ]
  },
  {
   "cell_type": "code",
   "execution_count": 5,
   "id": "4c2a0ae0",
   "metadata": {
    "scrolled": false
   },
   "outputs": [
    {
     "data": {
      "image/png": "[encoded data removed]",
      "text/plain": [
       "<Figure size 432x432 with 6 Axes>"
      ]
     },
     "metadata": {
      "needs_background": "light"
     },
     "output_type": "display_data"
    }
   ],
   "source": [
    "g = plots.get_subplot_plotter()\n",
    "g.triangle_plot(getdist_samples, filled = True)\n",
    "\n",
    "ax_a_b = g.get_axes_for_params('a', 'b')\n",
    "ax_a_b.set_ylabel('b (kpc)')\n",
    "\n",
    "ax_a_logM = g.get_axes_for_params('a', 'logM')\n",
    "ax_a_logM.set_xlabel('a (kpc)')\n",
    "ax_a_logM.set_ylabel(r'$log(M/M_\\odot)$')\n",
    "\n",
    "ax_b_logM = g.get_axes_for_params('b', 'logM')\n",
    "ax_b_logM.set_xlabel('b (kpc)')\n",
    "\n",
    "ax_logM_logM = g.get_axes_for_params('logM')\n",
    "ax_logM_logM.set_xlabel(r'$log(M/M_\\odot)$')\n",
    "\n",
    "plt.savefig('./figures/exp_contours.pdf', bbox_inches = 'tight')\n",
    "\n",
    "\n",
    "plt.show()"
   ]
  },
  {
   "cell_type": "markdown",
   "id": "9b932803",
   "metadata": {},
   "source": [
    "## Statistics"
   ]
  },
  {
   "cell_type": "code",
   "execution_count": 6,
   "id": "601732de",
   "metadata": {},
   "outputs": [],
   "source": [
    "mean = getdist_samples.getMeans()\n",
    "#np.savetxt('./results/mean_exp_fit_params.txt', mean)"
   ]
  },
  {
   "cell_type": "code",
   "execution_count": 7,
   "id": "4bba4104",
   "metadata": {},
   "outputs": [],
   "source": [
    "std = np.sqrt(getdist_samples.getVars())\n",
    "#np.savetxt('./results/std_exp_fit_params.txt', std)"
   ]
  },
  {
   "cell_type": "markdown",
   "id": "5451e55d",
   "metadata": {},
   "source": [
    "## Exp density and its verification with data"
   ]
  },
  {
   "cell_type": "code",
   "execution_count": 8,
   "id": "b5944df7",
   "metadata": {},
   "outputs": [],
   "source": [
    "nsamples = len(samples)"
   ]
  },
  {
   "cell_type": "code",
   "execution_count": 9,
   "id": "a4956160",
   "metadata": {},
   "outputs": [],
   "source": [
    "Rvals = np.round(np.load('./data/x_vals.npy'), 2)\n",
    "zvals = np.round(np.load('./data/z_vals.npy'), 2)"
   ]
  },
  {
   "cell_type": "code",
   "execution_count": 10,
   "id": "23525a15",
   "metadata": {},
   "outputs": [],
   "source": [
    "rho_data = np.load('./data/2d_density.npy')\n",
    "rho_error_data = np.load('./data/error_2d_density.npy')"
   ]
  },
  {
   "cell_type": "code",
   "execution_count": 11,
   "id": "b1016295",
   "metadata": {},
   "outputs": [],
   "source": [
    "H_chain = samples[:, 0]\n",
    "z0_chain = samples[:, 1]\n",
    "logM_chain = samples[:, 2]"
   ]
  },
  {
   "cell_type": "code",
   "execution_count": 12,
   "id": "c3dd0655",
   "metadata": {},
   "outputs": [],
   "source": [
    "Nchains = len(samples)"
   ]
  },
  {
   "cell_type": "markdown",
   "id": "c1adf8c6",
   "metadata": {},
   "source": [
    "### Radial densities"
   ]
  },
  {
   "cell_type": "code",
   "execution_count": 13,
   "id": "adbc0d53",
   "metadata": {},
   "outputs": [],
   "source": [
    "getdist_samples_rad = copy.deepcopy(getdist_samples)"
   ]
  },
  {
   "cell_type": "code",
   "execution_count": 14,
   "id": "07ba5121",
   "metadata": {},
   "outputs": [],
   "source": [
    "z_at = 0.05\n",
    "zidx = np.where(zvals == z_at)[0]"
   ]
  },
  {
   "cell_type": "code",
   "execution_count": 15,
   "id": "3ae377b0",
   "metadata": {},
   "outputs": [],
   "source": [
    "for ridx in range(len(Rvals)):\n",
    "    radial_rho_exp = pt.exp_rho(np.full(Nchains, Rvals[ridx]), np.full(Nchains, z_at), H_chain, z0_chain, logM_chain)\n",
    "    getdist_samples_rad.addDerived(radial_rho_exp, name = 'exp_density_rad'+ str(Rvals[ridx]))"
   ]
  },
  {
   "cell_type": "code",
   "execution_count": 16,
   "id": "8631acc4",
   "metadata": {},
   "outputs": [],
   "source": [
    "mean_exp_rho_rad = getdist_samples_rad.getMeans()[3:]\n",
    "std_exp_rho_rad = np.sqrt(getdist_samples_rad.getVars()[3:])"
   ]
  },
  {
   "cell_type": "markdown",
   "id": "522c7ce0",
   "metadata": {},
   "source": [
    "#### Verifying with radial data"
   ]
  },
  {
   "cell_type": "code",
   "execution_count": 17,
   "id": "f0356348",
   "metadata": {},
   "outputs": [],
   "source": [
    "radial_rho_data = rho_data[:, zidx].reshape(len(Rvals), )\n",
    "radial_rho_error_data = rho_error_data[:, zidx].reshape(len(Rvals), )"
   ]
  },
  {
   "cell_type": "code",
   "execution_count": 18,
   "id": "55ef38f8",
   "metadata": {},
   "outputs": [],
   "source": [
    "log_radial_res, log_radial_res_error = pt.get_fit_residual(np.log10(radial_rho_data), np.log10(mean_exp_rho_rad),\n",
    "                                                          radial_rho_error_data/(np.log(10)*radial_rho_data),\n",
    "                                                          std_exp_rho_rad/(np.log(10)*mean_exp_rho_rad))"
   ]
  },
  {
   "cell_type": "code",
   "execution_count": 19,
   "id": "85535339",
   "metadata": {
    "scrolled": false
   },
   "outputs": [
    {
     "data": {
      "image/png": "[encoded data removed]",
      "text/plain": [
       "<Figure size 576x432 with 2 Axes>"
      ]
     },
     "metadata": {
      "needs_background": "light"
     },
     "output_type": "display_data"
    }
   ],
   "source": [
    "fig = plt.figure(figsize = (8,6))\n",
    "\n",
    "gs = fig.add_gridspec(2, 1, height_ratios = (4, 1), hspace = 0.05)\n",
    "\n",
    "ax0 = fig.add_subplot(gs[0, 0])\n",
    "ax0.errorbar(Rvals, np.log10(radial_rho_data), yerr = radial_rho_error_data/(radial_rho_data*np.log(10)),\n",
    "             ecolor = 'black', capsize = 5, fmt = 'o', color = 'r', markeredgecolor = 'black',\n",
    "            label = 'Radial density data')\n",
    "ax0.plot(Rvals, np.log10(mean_exp_rho_rad), color = 'blue', label = 'Exponential profile fit')\n",
    "#ax0.fill_between(Rvals, np.log10(mean_exp_rho_rad - std_exp_rho_rad), \n",
    "#                 np.log10(mean_exp_rho_rad + std_exp_rho_rad), \n",
    "#                 color = 'cyan', label = '1 sigma band of exp fit')\n",
    "ax0.set_xlim(0, 4.5)\n",
    "ax0.set_xticklabels([])\n",
    "ax0.set_ylabel(r'$log(\\rho(r))$ ($M_\\odot$ kpc$^{-3}$)')\n",
    "ax0.legend()\n",
    "#ax0.set_title('Radial Densities')\n",
    "\n",
    "ax1 = fig.add_subplot(gs[1, 0])\n",
    "ax1.errorbar(Rvals, log_radial_res, yerr = log_radial_res_error, ecolor = 'black', capsize = 5, color = 'black'\n",
    "            , fmt = 'o', markersize = 0)\n",
    "ax1.set_ylim(-0.1, 0.1)\n",
    "ax1.hlines(0, 0, 4.5, color = 'r', linestyles = 'dashed')\n",
    "ax1.set_xlim(0, 4.5)\n",
    "ax1.set_xlabel('r (kpc)')\n",
    "ax1.set_ylabel('Residual')\n",
    "\n",
    "plt.savefig('./figures/exp_fit_radial.pdf', bbox_inches = 'tight')\n",
    "plt.show()"
   ]
  },
  {
   "cell_type": "markdown",
   "id": "8b70ebdc",
   "metadata": {},
   "source": [
    "### Vertical densities"
   ]
  },
  {
   "cell_type": "code",
   "execution_count": 20,
   "id": "7bf8b71a",
   "metadata": {},
   "outputs": [],
   "source": [
    "getdist_samples_vert = copy.deepcopy(getdist_samples)"
   ]
  },
  {
   "cell_type": "code",
   "execution_count": 21,
   "id": "36ceb8fc",
   "metadata": {},
   "outputs": [],
   "source": [
    "R_at = 0.25\n",
    "Ridx = np.where(Rvals == R_at)[0]"
   ]
  },
  {
   "cell_type": "code",
   "execution_count": 22,
   "id": "132daea4",
   "metadata": {},
   "outputs": [],
   "source": [
    "for zidx in range(len(zvals)):\n",
    "    vert_rho_exp = pt.exp_rho(np.full(Nchains, R_at), np.full(Nchains, zvals[zidx]), H_chain, z0_chain, logM_chain)\n",
    "    getdist_samples_vert.addDerived(vert_rho_exp, name = 'exp_density_vert'+ str(zvals[zidx]))"
   ]
  },
  {
   "cell_type": "code",
   "execution_count": 23,
   "id": "5c9046c8",
   "metadata": {},
   "outputs": [],
   "source": [
    "mean_exp_rho_vert = getdist_samples_vert.getMeans()[3:]\n",
    "std_exp_rho_vert = np.sqrt(getdist_samples_vert.getVars()[3:])"
   ]
  },
  {
   "cell_type": "markdown",
   "id": "47f6d4a2",
   "metadata": {},
   "source": [
    "#### Verifiying with vertical data"
   ]
  },
  {
   "cell_type": "code",
   "execution_count": 24,
   "id": "941152e3",
   "metadata": {},
   "outputs": [],
   "source": [
    "vert_rho_data = rho_data[Ridx, :].reshape(len(zvals), )\n",
    "vert_rho_error_data = rho_error_data[Ridx, :].reshape(len(zvals), )"
   ]
  },
  {
   "cell_type": "code",
   "execution_count": 25,
   "id": "c6d77d7a",
   "metadata": {},
   "outputs": [],
   "source": [
    "log_vert_res, log_vert_res_error = pt.get_fit_residual(np.log10(vert_rho_data), np.log10(mean_exp_rho_vert),\n",
    "                                                          vert_rho_error_data/(np.log(10)*vert_rho_data),\n",
    "                                                          std_exp_rho_vert/(np.log(10)*mean_exp_rho_vert))"
   ]
  },
  {
   "cell_type": "code",
   "execution_count": 28,
   "id": "b236bc0e",
   "metadata": {},
   "outputs": [
    {
     "data": {
      "image/png": "[encoded data removed]",
      "text/plain": [
       "<Figure size 576x432 with 2 Axes>"
      ]
     },
     "metadata": {
      "needs_background": "light"
     },
     "output_type": "display_data"
    }
   ],
   "source": [
    "fig = plt.figure(figsize = (8,6))\n",
    "\n",
    "gs = fig.add_gridspec(2, 1, height_ratios = (4, 1), hspace = 0.05)\n",
    "\n",
    "ax0 = fig.add_subplot(gs[0, 0])\n",
    "ax0.errorbar(zvals, np.log10(vert_rho_data), yerr = vert_rho_error_data/(vert_rho_data*np.log(10)),\n",
    "             ecolor = 'black', capsize = 5, fmt = 'o', color = 'r', markeredgecolor = 'black',\n",
    "            label = 'Vertical density data')\n",
    "ax0.plot(zvals, np.log10(mean_exp_rho_vert), color = 'blue', label = 'Exponential profile fit')\n",
    "#ax0.fill_between(zvals, np.log10(mean_exp_rho_vert - std_exp_rho_vert), \n",
    "#                 np.log10(mean_exp_rho_vert + std_exp_rho_vert), \n",
    "#                 color = 'cyan', label = '1 sigma band of exp fit')\n",
    "ax0.set_xlim(0, 1)\n",
    "ax0.set_xticklabels([])\n",
    "ax0.set_ylabel(r'$log(\\rho(z))$ ($M_\\odot$ kpc$^{-3}$)')\n",
    "ax0.legend()\n",
    "#ax0.set_title('Vertical Densities')\n",
    "\n",
    "ax1 = fig.add_subplot(gs[1, 0])\n",
    "ax1.errorbar(zvals, log_vert_res, yerr = log_vert_res_error, ecolor = 'black', capsize = 5, color = 'black'\n",
    "            , fmt = 'o', markersize = 0)\n",
    "ax1.set_ylim(-0.2, 0.2)\n",
    "ax1.hlines(0, 0, 1, color = 'r', linestyles = 'dashed')\n",
    "ax1.set_xlim(0, 1)\n",
    "ax1.set_xlabel('z (kpc)')\n",
    "ax1.set_ylabel('Residual')\n",
    "\n",
    "plt.savefig('./figures/exp_fit_vertical.pdf', bbox_inches = 'tight')\n",
    "plt.show()"
   ]
  }
 ],
 "metadata": {
  "kernelspec": {
   "display_name": "Python 3 (ipykernel)",
   "language": "python",
   "name": "python3"
  },
  "language_info": {
   "codemirror_mode": {
    "name": "ipython",
    "version": 3
   },
   "file_extension": ".py",
   "mimetype": "text/x-python",
   "name": "python",
   "nbconvert_exporter": "python",
   "pygments_lexer": "ipython3",
   "version": "3.9.12"
  }
 },
 "nbformat": 4,
 "nbformat_minor": 5
}
