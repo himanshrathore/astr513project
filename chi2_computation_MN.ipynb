{
 "cells": [
  {
   "cell_type": "markdown",
   "id": "5d14b0ec",
   "metadata": {},
   "source": [
    "# $\\chi^2$ computations for the MN profile fit"
   ]
  },
  {
   "cell_type": "code",
   "execution_count": 15,
   "id": "3ccbec7f",
   "metadata": {},
   "outputs": [],
   "source": [
    "import numpy as np\n",
    "from modules import potential_tools as pt"
   ]
  },
  {
   "cell_type": "markdown",
   "id": "d4189767",
   "metadata": {},
   "source": [
    "## Obtaining the model densities"
   ]
  },
  {
   "cell_type": "code",
   "execution_count": 16,
   "id": "6f6e7e6b",
   "metadata": {},
   "outputs": [],
   "source": [
    "#Obtaining the R-z grid\n",
    "R = np.load('./data/x_vals.npy')\n",
    "z = np.load('./data/z_vals.npy')\n",
    "Rgrid, zgrid = np.meshgrid(R, z)"
   ]
  },
  {
   "cell_type": "code",
   "execution_count": 17,
   "id": "b7c92fa7",
   "metadata": {},
   "outputs": [],
   "source": [
    "def rho_model(params):\n",
    "    a = params[0]\n",
    "    b = params[1]\n",
    "    logM = params[2]\n",
    "    \n",
    "    return pt.MN_rho(Rgrid, zgrid, a, b, logM).T"
   ]
  },
  {
   "cell_type": "markdown",
   "id": "bc9a65a4",
   "metadata": {},
   "source": [
    "## Defining $\\chi^2$"
   ]
  },
  {
   "cell_type": "code",
   "execution_count": 18,
   "id": "beeed423",
   "metadata": {},
   "outputs": [],
   "source": [
    "#Obtaning the actual densities\n",
    "rho_actual = np.load('./data/2d_density.npy')\n",
    "rho_actual_err = np.load('./data/error_2d_density.npy')"
   ]
  },
  {
   "cell_type": "code",
   "execution_count": 19,
   "id": "938c671a",
   "metadata": {},
   "outputs": [],
   "source": [
    "def chi2(params):\n",
    "    return np.sum(np.divide(rho_actual - rho_model(params), rho_actual_err)**2)"
   ]
  },
  {
   "cell_type": "markdown",
   "id": "f18514df",
   "metadata": {},
   "source": [
    "## Chains"
   ]
  },
  {
   "cell_type": "code",
   "execution_count": 20,
   "id": "9a94cfb3",
   "metadata": {},
   "outputs": [],
   "source": [
    "samples_mn = np.loadtxt('./chains/mcmc_MN_profile.txt')\n",
    "Nchains_mn = len(samples_mn)"
   ]
  },
  {
   "cell_type": "markdown",
   "id": "ab7622d4",
   "metadata": {},
   "source": [
    "## Computing $\\chi^2$"
   ]
  },
  {
   "cell_type": "code",
   "execution_count": 21,
   "id": "bddf3c5a",
   "metadata": {},
   "outputs": [],
   "source": [
    "chi2_mn = np.zeros(Nchains_mn)\n",
    "\n",
    "for i in range(Nchains_mn):\n",
    "    chi2_mn[i] += chi2(samples_mn[i, :])"
   ]
  },
  {
   "cell_type": "code",
   "execution_count": 22,
   "id": "deb03baa",
   "metadata": {},
   "outputs": [],
   "source": [
    "chi2_red = np.min(chi2_mn)"
   ]
  },
  {
   "cell_type": "code",
   "execution_count": 23,
   "id": "72d3b872",
   "metadata": {},
   "outputs": [
    {
     "data": {
      "text/plain": [
       "4792.0288185464615"
      ]
     },
     "execution_count": 23,
     "metadata": {},
     "output_type": "execute_result"
    }
   ],
   "source": [
    "chi2_red"
   ]
  },
  {
   "cell_type": "markdown",
   "id": "ff74c398",
   "metadata": {},
   "source": [
    "## Number of dof"
   ]
  },
  {
   "cell_type": "code",
   "execution_count": 24,
   "id": "c0bca6ce",
   "metadata": {},
   "outputs": [],
   "source": [
    "n_dof = len(R)*len(z) - 3"
   ]
  },
  {
   "cell_type": "code",
   "execution_count": 25,
   "id": "bbbe134b",
   "metadata": {},
   "outputs": [
    {
     "data": {
      "text/plain": [
       "357"
      ]
     },
     "execution_count": 25,
     "metadata": {},
     "output_type": "execute_result"
    }
   ],
   "source": [
    "n_dof"
   ]
  },
  {
   "cell_type": "markdown",
   "id": "f9963ba6",
   "metadata": {},
   "source": [
    "## $\\chi^2_{red, dof}$"
   ]
  },
  {
   "cell_type": "code",
   "execution_count": 26,
   "id": "ed7831ce",
   "metadata": {},
   "outputs": [
    {
     "data": {
      "text/plain": [
       "13.42304991189485"
      ]
     },
     "execution_count": 26,
     "metadata": {},
     "output_type": "execute_result"
    }
   ],
   "source": [
    "chi2_red/n_dof"
   ]
  }
 ],
 "metadata": {
  "kernelspec": {
   "display_name": "Python 3 (ipykernel)",
   "language": "python",
   "name": "python3"
  },
  "language_info": {
   "codemirror_mode": {
    "name": "ipython",
    "version": 3
   },
   "file_extension": ".py",
   "mimetype": "text/x-python",
   "name": "python",
   "nbconvert_exporter": "python",
   "pygments_lexer": "ipython3",
   "version": "3.9.12"
  }
 },
 "nbformat": 4,
 "nbformat_minor": 5
}
